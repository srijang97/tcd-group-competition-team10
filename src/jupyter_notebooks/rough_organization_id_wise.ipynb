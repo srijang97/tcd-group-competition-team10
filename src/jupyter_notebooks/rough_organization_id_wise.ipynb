{
 "cells": [
  {
   "cell_type": "code",
   "execution_count": 249,
   "metadata": {
    "scrolled": true
   },
   "outputs": [
    {
     "name": "stdout",
     "output_type": "stream",
     "text": [
      "<class 'pandas.core.frame.DataFrame'>\n",
      "Int64Index: 271839 entries, 0 to 385686\n",
      "Data columns (total 44 columns):\n",
      "recommendation_set_id               271839 non-null int64\n",
      "query_identifier                    271685 non-null object\n",
      "query_word_count                    271685 non-null object\n",
      "query_char_count                    271685 non-null object\n",
      "query_detected_language             268284 non-null object\n",
      "query_document_id                   128476 non-null object\n",
      "document_language_provided          2557 non-null object\n",
      "year_published                      43752 non-null object\n",
      "number_of_authors                   42444 non-null object\n",
      "abstract_word_count                 115873 non-null object\n",
      "abstract_char_count                 115873 non-null object\n",
      "abstract_detected_language          115818 non-null object\n",
      "first_author_id                     40764 non-null object\n",
      "num_pubs_by_first_author            40764 non-null object\n",
      "organization_id                     271839 non-null int64\n",
      "application_type                    271839 non-null object\n",
      "item_type                           239385 non-null object\n",
      "request_received                    271839 non-null object\n",
      "hour_request_received               271839 non-null int64\n",
      "response_delivered                  271839 non-null object\n",
      "rec_processing_time                 271839 non-null float64\n",
      "app_version                         167744 non-null object\n",
      "app_lang                            256056 non-null object\n",
      "user_os                             837 non-null object\n",
      "user_os_version                     5 non-null object\n",
      "user_java_version                   2 non-null object\n",
      "user_timezone                       840 non-null object\n",
      "country_by_ip                       270753 non-null object\n",
      "timezone_by_ip                      210302 non-null object\n",
      "local_time_of_request               202135 non-null object\n",
      "local_hour_of_request               202135 non-null object\n",
      "number_of_recs_in_set               271839 non-null int64\n",
      "recommendation_algorithm_id_used    263530 non-null object\n",
      "algorithm_class                     271839 non-null object\n",
      "cbf_parser                          186746 non-null object\n",
      "search_title                        271839 non-null object\n",
      "search_keywords                     271839 non-null object\n",
      "search_abstract                     271839 non-null object\n",
      "time_recs_recieved                  52899 non-null object\n",
      "time_recs_displayed                 52576 non-null object\n",
      "time_recs_viewed                    12647 non-null object\n",
      "clicks                              271839 non-null int64\n",
      "ctr                                 271839 non-null float64\n",
      "set_clicked                         271839 non-null int64\n",
      "dtypes: float64(2), int64(6), object(36)\n",
      "memory usage: 93.3+ MB\n",
      "None\n"
     ]
    }
   ],
   "source": [
    "import pandas as pd\n",
    "import numpy as np\n",
    "import matplotlib.pyplot as plt\n",
    "import seaborn as sns\n",
    "%matplotlib inline\n",
    "import warnings\n",
    "warnings.filterwarnings(\"ignore\")\n",
    "\n",
    "df = pd.read_csv('tcdml1920-rec-click-pred--training.csv')\n",
    "cols_to_drop = ['user_id','session_id']\n",
    "new_df = df[df.columns.drop(cols_to_drop)]\n",
    "# print(new_df.head())\n",
    "\n",
    "new_df = new_df[(new_df['rec_processing_time']<5)]\n",
    "new_df = new_df.replace('\\\\N',np.nan)\n",
    "print(new_df.info())\n",
    "\n",
    "# all_columns = ['query_word_count','query_char_count',\n",
    "#                 'hour_request_received','num_pubs_by_first_author','number_of_authors'] # Creates list of all column headers\n",
    "# new_df[all_columns] = new_df[all_columns].astype('float64')\n",
    "\n",
    "\n",
    "# new_df = new_df[~new_df['time_recs_viewed'].isnull()]\n",
    "# print(new_df.info())\n",
    "\n"
   ]
  },
  {
   "cell_type": "code",
   "execution_count": 250,
   "metadata": {},
   "outputs": [],
   "source": [
    "all_columns = ['query_word_count','query_char_count',\n",
    "                'hour_request_received','num_pubs_by_first_author','number_of_authors','local_hour_of_request'] # Creates list of all column headers\n",
    "new_df[all_columns] = new_df[all_columns].astype('float64')"
   ]
  },
  {
   "cell_type": "code",
   "execution_count": 251,
   "metadata": {},
   "outputs": [
    {
     "data": {
      "text/plain": [
       "1    167778\n",
       "4     89384\n",
       "8     14677\n",
       "Name: organization_id, dtype: int64"
      ]
     },
     "execution_count": 251,
     "metadata": {},
     "output_type": "execute_result"
    }
   ],
   "source": [
    "new_df['organization_id'].value_counts()"
   ]
  },
  {
   "cell_type": "code",
   "execution_count": 252,
   "metadata": {},
   "outputs": [
    {
     "name": "stdout",
     "output_type": "stream",
     "text": [
      "recommendation_set_id                    0\n",
      "query_identifier                         0\n",
      "query_word_count                         0\n",
      "query_char_count                         0\n",
      "query_detected_language               3401\n",
      "query_document_id                   121298\n",
      "document_language_provided          165221\n",
      "year_published                      124026\n",
      "number_of_authors                   125334\n",
      "abstract_word_count                 133533\n",
      "abstract_char_count                 133533\n",
      "abstract_detected_language          133588\n",
      "first_author_id                     127014\n",
      "num_pubs_by_first_author            127014\n",
      "organization_id                          0\n",
      "application_type                         0\n",
      "item_type                               39\n",
      "request_received                         0\n",
      "hour_request_received                    0\n",
      "response_delivered                       0\n",
      "rec_processing_time                      0\n",
      "app_version                             34\n",
      "app_lang                               793\n",
      "user_os                             166941\n",
      "user_os_version                     167773\n",
      "user_java_version                   167776\n",
      "user_timezone                       166938\n",
      "country_by_ip                          797\n",
      "timezone_by_ip                       10437\n",
      "local_time_of_request                18604\n",
      "local_hour_of_request                18604\n",
      "number_of_recs_in_set                    0\n",
      "recommendation_algorithm_id_used      8309\n",
      "algorithm_class                          0\n",
      "cbf_parser                           53247\n",
      "search_title                             0\n",
      "search_keywords                          0\n",
      "search_abstract                          0\n",
      "time_recs_recieved                  167657\n",
      "time_recs_displayed                 167658\n",
      "time_recs_viewed                    167744\n",
      "clicks                                   0\n",
      "ctr                                      0\n",
      "set_clicked                              0\n",
      "dtype: int64\n"
     ]
    }
   ],
   "source": [
    "df1 = new_df[new_df['organization_id']== 1]\n",
    "# print(df1.describe())\n",
    "print(df1.isnull().sum())"
   ]
  },
  {
   "cell_type": "code",
   "execution_count": 253,
   "metadata": {},
   "outputs": [
    {
     "data": {
      "text/html": [
       "<div>\n",
       "<style scoped>\n",
       "    .dataframe tbody tr th:only-of-type {\n",
       "        vertical-align: middle;\n",
       "    }\n",
       "\n",
       "    .dataframe tbody tr th {\n",
       "        vertical-align: top;\n",
       "    }\n",
       "\n",
       "    .dataframe thead th {\n",
       "        text-align: right;\n",
       "    }\n",
       "</style>\n",
       "<table border=\"1\" class=\"dataframe\">\n",
       "  <thead>\n",
       "    <tr style=\"text-align: right;\">\n",
       "      <th></th>\n",
       "      <th>query_word_count</th>\n",
       "      <th>query_char_count</th>\n",
       "      <th>query_detected_language</th>\n",
       "      <th>application_type</th>\n",
       "      <th>item_type</th>\n",
       "      <th>hour_request_received</th>\n",
       "      <th>app_version</th>\n",
       "      <th>app_lang</th>\n",
       "      <th>country_by_ip</th>\n",
       "      <th>algorithm_class</th>\n",
       "      <th>cbf_parser</th>\n",
       "      <th>search_title</th>\n",
       "      <th>search_keywords</th>\n",
       "      <th>search_abstract</th>\n",
       "      <th>local_hour_of_request</th>\n",
       "      <th>clicks</th>\n",
       "      <th>ctr</th>\n",
       "      <th>set_clicked</th>\n",
       "    </tr>\n",
       "  </thead>\n",
       "  <tbody>\n",
       "    <tr>\n",
       "      <th>0</th>\n",
       "      <td>6.0</td>\n",
       "      <td>35.0</td>\n",
       "      <td>en</td>\n",
       "      <td>digital_library</td>\n",
       "      <td>academic_publication</td>\n",
       "      <td>16.0</td>\n",
       "      <td>4.3.1</td>\n",
       "      <td>en</td>\n",
       "      <td>NL</td>\n",
       "      <td>content_based_filtering</td>\n",
       "      <td>standard_QP</td>\n",
       "      <td>yes</td>\n",
       "      <td>no</td>\n",
       "      <td>no</td>\n",
       "      <td>NaN</td>\n",
       "      <td>0</td>\n",
       "      <td>0.0</td>\n",
       "      <td>0</td>\n",
       "    </tr>\n",
       "    <tr>\n",
       "      <th>1</th>\n",
       "      <td>9.0</td>\n",
       "      <td>53.0</td>\n",
       "      <td>en</td>\n",
       "      <td>digital_library</td>\n",
       "      <td>academic_publication</td>\n",
       "      <td>16.0</td>\n",
       "      <td>4.3.1</td>\n",
       "      <td>en</td>\n",
       "      <td>GB</td>\n",
       "      <td>content_based_filtering</td>\n",
       "      <td>standard_QP</td>\n",
       "      <td>yes</td>\n",
       "      <td>no</td>\n",
       "      <td>no</td>\n",
       "      <td>NaN</td>\n",
       "      <td>0</td>\n",
       "      <td>0.0</td>\n",
       "      <td>0</td>\n",
       "    </tr>\n",
       "    <tr>\n",
       "      <th>3</th>\n",
       "      <td>14.0</td>\n",
       "      <td>100.0</td>\n",
       "      <td>en</td>\n",
       "      <td>digital_library</td>\n",
       "      <td>academic_publication</td>\n",
       "      <td>16.0</td>\n",
       "      <td>4.3.1</td>\n",
       "      <td>en</td>\n",
       "      <td>US</td>\n",
       "      <td>content_based_filtering</td>\n",
       "      <td>standard_QP</td>\n",
       "      <td>yes</td>\n",
       "      <td>no</td>\n",
       "      <td>no</td>\n",
       "      <td>NaN</td>\n",
       "      <td>0</td>\n",
       "      <td>0.0</td>\n",
       "      <td>0</td>\n",
       "    </tr>\n",
       "    <tr>\n",
       "      <th>4</th>\n",
       "      <td>14.0</td>\n",
       "      <td>100.0</td>\n",
       "      <td>en</td>\n",
       "      <td>digital_library</td>\n",
       "      <td>academic_publication</td>\n",
       "      <td>16.0</td>\n",
       "      <td>4.3.1</td>\n",
       "      <td>en</td>\n",
       "      <td>US</td>\n",
       "      <td>content_based_filtering</td>\n",
       "      <td>edismax_QP</td>\n",
       "      <td>yes</td>\n",
       "      <td>yes</td>\n",
       "      <td>no</td>\n",
       "      <td>NaN</td>\n",
       "      <td>0</td>\n",
       "      <td>0.0</td>\n",
       "      <td>0</td>\n",
       "    </tr>\n",
       "    <tr>\n",
       "      <th>5</th>\n",
       "      <td>22.0</td>\n",
       "      <td>158.0</td>\n",
       "      <td>de</td>\n",
       "      <td>digital_library</td>\n",
       "      <td>academic_publication</td>\n",
       "      <td>16.0</td>\n",
       "      <td>4.3.1</td>\n",
       "      <td>de</td>\n",
       "      <td>DE</td>\n",
       "      <td>content_based_filtering</td>\n",
       "      <td>standard_QP</td>\n",
       "      <td>yes</td>\n",
       "      <td>no</td>\n",
       "      <td>no</td>\n",
       "      <td>NaN</td>\n",
       "      <td>0</td>\n",
       "      <td>0.0</td>\n",
       "      <td>0</td>\n",
       "    </tr>\n",
       "  </tbody>\n",
       "</table>\n",
       "</div>"
      ],
      "text/plain": [
       "   query_word_count  query_char_count query_detected_language  \\\n",
       "0               6.0              35.0                      en   \n",
       "1               9.0              53.0                      en   \n",
       "3              14.0             100.0                      en   \n",
       "4              14.0             100.0                      en   \n",
       "5              22.0             158.0                      de   \n",
       "\n",
       "  application_type             item_type  hour_request_received app_version  \\\n",
       "0  digital_library  academic_publication                   16.0       4.3.1   \n",
       "1  digital_library  academic_publication                   16.0       4.3.1   \n",
       "3  digital_library  academic_publication                   16.0       4.3.1   \n",
       "4  digital_library  academic_publication                   16.0       4.3.1   \n",
       "5  digital_library  academic_publication                   16.0       4.3.1   \n",
       "\n",
       "  app_lang country_by_ip          algorithm_class   cbf_parser search_title  \\\n",
       "0       en            NL  content_based_filtering  standard_QP          yes   \n",
       "1       en            GB  content_based_filtering  standard_QP          yes   \n",
       "3       en            US  content_based_filtering  standard_QP          yes   \n",
       "4       en            US  content_based_filtering   edismax_QP          yes   \n",
       "5       de            DE  content_based_filtering  standard_QP          yes   \n",
       "\n",
       "  search_keywords search_abstract  local_hour_of_request  clicks  ctr  \\\n",
       "0              no              no                    NaN       0  0.0   \n",
       "1              no              no                    NaN       0  0.0   \n",
       "3              no              no                    NaN       0  0.0   \n",
       "4             yes              no                    NaN       0  0.0   \n",
       "5              no              no                    NaN       0  0.0   \n",
       "\n",
       "   set_clicked  \n",
       "0            0  \n",
       "1            0  \n",
       "3            0  \n",
       "4            0  \n",
       "5            0  "
      ]
     },
     "execution_count": 253,
     "metadata": {},
     "output_type": "execute_result"
    }
   ],
   "source": [
    "cols= ['query_word_count','query_char_count','query_detected_language','application_type','item_type','hour_request_received',\n",
    "      'app_version','app_lang','country_by_ip','algorithm_class','cbf_parser','search_title','search_keywords','search_abstract','local_hour_of_request','clicks',\n",
    "      'ctr','set_clicked']\n",
    "df1= df1[cols]\n",
    "df1.head()"
   ]
  },
  {
   "cell_type": "code",
   "execution_count": 254,
   "metadata": {},
   "outputs": [
    {
     "data": {
      "text/plain": [
       "53247"
      ]
     },
     "execution_count": 254,
     "metadata": {},
     "output_type": "execute_result"
    }
   ],
   "source": [
    "\n",
    "df1['cbf_parser'].isnull().sum()\n",
    "\n"
   ]
  },
  {
   "cell_type": "code",
   "execution_count": 255,
   "metadata": {},
   "outputs": [
    {
     "name": "stdout",
     "output_type": "stream",
     "text": [
      "en       139799\n",
      "de        17683\n",
      "zh         4091\n",
      "pt_BR      1257\n",
      "fr         1206\n",
      "es         1175\n",
      "ja          875\n",
      "ru          514\n",
      "it          292\n",
      "da           27\n",
      "nl           20\n",
      "no           16\n",
      "tr           12\n",
      "sv            7\n",
      "fa            5\n",
      "vi            3\n",
      "el            3\n",
      "Name: app_lang, dtype: int64\n"
     ]
    }
   ],
   "source": [
    "from sklearn.model_selection import train_test_split\n",
    "x= df1.iloc[:,:-3]\n",
    "y = df1.iloc[:,-1]\n",
    "print(x['app_lang'].value_counts())\n",
    "\n",
    "# print(x.head())\n",
    "# print(y.head())\n",
    "\n",
    "x_train, x_test, y_train, y_test = train_test_split(x, y, test_size=0.2, random_state=101, stratify =y)"
   ]
  },
  {
   "cell_type": "code",
   "execution_count": 256,
   "metadata": {},
   "outputs": [
    {
     "data": {
      "text/plain": [
       "0    131361\n",
       "1      2861\n",
       "Name: set_clicked, dtype: int64"
      ]
     },
     "execution_count": 256,
     "metadata": {},
     "output_type": "execute_result"
    }
   ],
   "source": [
    "y_train.value_counts()"
   ]
  },
  {
   "cell_type": "code",
   "execution_count": 257,
   "metadata": {},
   "outputs": [
    {
     "data": {
      "text/plain": [
       "query_word_count           0\n",
       "query_char_count           0\n",
       "query_detected_language    0\n",
       "application_type           0\n",
       "item_type                  0\n",
       "hour_request_received      0\n",
       "app_version                0\n",
       "app_lang                   0\n",
       "country_by_ip              0\n",
       "algorithm_class            0\n",
       "cbf_parser                 0\n",
       "search_title               0\n",
       "search_keywords            0\n",
       "search_abstract            0\n",
       "local_hour_of_request      0\n",
       "dtype: int64"
      ]
     },
     "execution_count": 257,
     "metadata": {},
     "output_type": "execute_result"
    }
   ],
   "source": [
    "cols = x_train.columns\n",
    "x_train[cols]=x_train[cols].fillna(x_train.mode().iloc[0])\n",
    "x_train.isnull().sum()"
   ]
  },
  {
   "cell_type": "code",
   "execution_count": 258,
   "metadata": {},
   "outputs": [
    {
     "data": {
      "text/plain": [
       "query_word_count           0\n",
       "query_char_count           0\n",
       "query_detected_language    0\n",
       "application_type           0\n",
       "item_type                  0\n",
       "hour_request_received      0\n",
       "app_version                0\n",
       "app_lang                   0\n",
       "country_by_ip              0\n",
       "algorithm_class            0\n",
       "cbf_parser                 0\n",
       "search_title               0\n",
       "search_keywords            0\n",
       "search_abstract            0\n",
       "local_hour_of_request      0\n",
       "dtype: int64"
      ]
     },
     "execution_count": 258,
     "metadata": {},
     "output_type": "execute_result"
    }
   ],
   "source": [
    "cols = x_test.columns\n",
    "x_test[cols]=x_test[cols].fillna(x_test.mode().iloc[0])\n",
    "x_test.isnull().sum()"
   ]
  },
  {
   "cell_type": "code",
   "execution_count": 259,
   "metadata": {},
   "outputs": [],
   "source": [
    "x_train = pd.get_dummies(data=x_train, columns=['query_detected_language','application_type','item_type',\n",
    "                                       'app_version','app_lang','country_by_ip','algorithm_class','cbf_parser','search_title',\n",
    "                                       'search_keywords','search_abstract'])\n",
    "x_test = pd.get_dummies(data=x_test, columns=['query_detected_language','application_type','item_type',\n",
    "                                       'app_version','app_lang','country_by_ip','algorithm_class','cbf_parser','search_title',\n",
    "                                       'search_keywords','search_abstract'])"
   ]
  },
  {
   "cell_type": "code",
   "execution_count": 260,
   "metadata": {},
   "outputs": [
    {
     "name": "stdout",
     "output_type": "stream",
     "text": [
      "______________________________________________\n"
     ]
    }
   ],
   "source": [
    "for column in list(x_train.columns.difference(x_test.columns)):\n",
    "    x_test[column]=0\n",
    "print(\"______________________________________________\")\n",
    "for column in list(x_test.columns.difference(x_train.columns)):\n",
    "    x_train[column]=0\n",
    "x_test= x_test[x_train.columns]\n",
    "# x_test= x_test.loc[x_train.columns]\n",
    "\n",
    "# x_train = x_train.reindex(columns=x_train.columns | x_test.columns)\n",
    "# x_test = x_test.reindex(columns=x_test.columns | x_train.columns)\n",
    "# x_test.isnull().sum()\n",
    "# x_test[\"app_lang_vi\"].unique()\n",
    "# x_train.assign(**dict.fromkeys(x_train.columns.difference(x_test.columns), 0))\n",
    "# x_test.assign(**dict.fromkeys(x_test.columns.difference(x_train.columns), 0))\n",
    "# x_train[\"app_lang_vi\"].value_counts()"
   ]
  },
  {
   "cell_type": "code",
   "execution_count": 265,
   "metadata": {},
   "outputs": [
    {
     "name": "stdout",
     "output_type": "stream",
     "text": [
      "0.9766360710454166\n",
      "0.012594458438287154\n",
      "0.006993006993006993\n",
      "0.06329113924050633\n"
     ]
    }
   ],
   "source": [
    "from sklearn.ensemble import RandomForestClassifier\n",
    "\n",
    "# # train model\n",
    "rfc = RandomForestClassifier(n_estimators=100).fit(x_train, y_train)\n",
    "\n",
    "# predict on test set\n",
    "rfc_pred = rfc.predict(x_test)\n",
    "from sklearn.metrics import accuracy_score,f1_score,recall_score,precision_score\n",
    "print(accuracy_score(y_test, rfc_pred))\n",
    "\n",
    "print(f1_score(y_test, rfc_pred))\n",
    "\n",
    "print(recall_score(y_test, rfc_pred))\n",
    "\n",
    "print(precision_score(y_test, rfc_pred))"
   ]
  },
  {
   "cell_type": "code",
   "execution_count": 24,
   "metadata": {},
   "outputs": [
    {
     "name": "stdout",
     "output_type": "stream",
     "text": [
      "\n",
      "******** For i = 0.05 ******\n",
      "Our testing accuracy is 0.8935985198889916\n",
      "[[48141  4800]\n",
      " [  951   158]]\n",
      "\n",
      "******** For i = 0.1 ******\n",
      "Our testing accuracy is 0.9353376503237743\n",
      "[[50454  2487]\n",
      " [ 1008   101]]\n",
      "\n",
      "******** For i = 0.15 ******\n",
      "Our testing accuracy is 0.9527104532839963\n",
      "[[51425  1516]\n",
      " [ 1040    69]]\n",
      "\n",
      "******** For i = 0.2 ******\n",
      "Our testing accuracy is 0.9612025901942646\n",
      "[[51903  1038]\n",
      " [ 1059    50]]\n",
      "\n",
      "******** For i = 0.25 ******\n",
      "Our testing accuracy is 0.9666234967622571\n",
      "[[52207   734]\n",
      " [ 1070    39]]\n",
      "\n",
      "******** For i = 0.3 ******\n",
      "Our testing accuracy is 0.9698982423681776\n",
      "[[52391   550]\n",
      " [ 1077    32]]\n",
      "\n",
      "******** For i = 0.35 ******\n",
      "Our testing accuracy is 0.9724514338575393\n",
      "[[52534   407]\n",
      " [ 1082    27]]\n",
      "\n",
      "******** For i = 0.4 ******\n",
      "Our testing accuracy is 0.9742830712303423\n",
      "[[52637   304]\n",
      " [ 1086    23]]\n",
      "\n",
      "******** For i = 0.45 ******\n",
      "Our testing accuracy is 0.976059204440333\n",
      "[[52741   200]\n",
      " [ 1094    15]]\n",
      "\n",
      "******** For i = 0.5 ******\n",
      "Our testing accuracy is 0.9772247918593895\n",
      "[[52805   136]\n",
      " [ 1095    14]]\n",
      "\n",
      "******** For i = 0.55 ******\n",
      "Our testing accuracy is 0.9776133209990749\n",
      "[[52830   111]\n",
      " [ 1099    10]]\n",
      "\n",
      "******** For i = 0.6 ******\n",
      "Our testing accuracy is 0.9781683626271971\n",
      "[[52863    78]\n",
      " [ 1102     7]]\n",
      "\n",
      "******** For i = 0.65 ******\n",
      "Our testing accuracy is 0.9788529139685477\n",
      "[[52903    38]\n",
      " [ 1105     4]]\n",
      "\n",
      "******** For i = 0.7 ******\n",
      "Our testing accuracy is 0.9793154486586494\n",
      "[[52929    12]\n",
      " [ 1106     3]]\n",
      "\n",
      "******** For i = 0.75 ******\n",
      "Our testing accuracy is 0.9794079555966697\n",
      "[[52936     5]\n",
      " [ 1108     1]]\n",
      "\n",
      "******** For i = 0.8 ******\n",
      "Our testing accuracy is 0.9794819611470861\n",
      "[[52940     1]\n",
      " [ 1108     1]]\n",
      "\n",
      "******** For i = 0.85 ******\n",
      "Our testing accuracy is 0.979463459759482\n",
      "[[52940     1]\n",
      " [ 1109     0]]\n",
      "\n",
      "******** For i = 0.9 ******\n",
      "Our testing accuracy is 0.9794819611470861\n",
      "[[52941     0]\n",
      " [ 1109     0]]\n",
      "\n",
      "******** For i = 0.95 ******\n",
      "Our testing accuracy is 0.9794819611470861\n",
      "[[52941     0]\n",
      " [ 1109     0]]\n",
      "\n",
      "******** For i = 0.99 ******\n",
      "Our testing accuracy is 0.9794819611470861\n",
      "[[52941     0]\n",
      " [ 1109     0]]\n"
     ]
    }
   ],
   "source": [
    "pred_proba_df = pd.DataFrame(rfc.predict_proba(x_test))\n",
    "threshold_list = [0.05,0.1,0.15,0.2,0.25,0.3,0.35,0.4,0.45,0.5,0.55,0.6,0.65,.7,.75,.8,.85,.9,.95,.99]\n",
    "for i in threshold_list:\n",
    "    print ('\\n******** For i = {} ******'.format(i))\n",
    "    Y_test_pred = pred_proba_df.applymap(lambda x: 1 if x>i else 0)\n",
    "    test_accuracy = accuracy_score(y_test.as_matrix().reshape(y_test.as_matrix().size,1),\n",
    "                                           Y_test_pred.iloc[:,1].as_matrix().reshape(Y_test_pred.iloc[:,1].as_matrix().size,1))\n",
    "    print('Our testing accuracy is {}'.format(test_accuracy))\n",
    "\n",
    "    print(confusion_matrix(y_test.as_matrix().reshape(y_test.as_matrix().size,1),\n",
    "                           Y_test_pred.iloc[:,1].as_matrix().reshape(Y_test_pred.iloc[:,1].as_matrix().size,1)))"
   ]
  },
  {
   "cell_type": "code",
   "execution_count": 266,
   "metadata": {},
   "outputs": [
    {
     "data": {
      "text/plain": [
       "<matplotlib.axes._subplots.AxesSubplot at 0x22e20289b38>"
      ]
     },
     "execution_count": 266,
     "metadata": {},
     "output_type": "execute_result"
    },
    {
     "data": {
      "image/png": "[encoded data removed]",
      "text/plain": [
       "<Figure size 576x360 with 2 Axes>"
      ]
     },
     "metadata": {
      "needs_background": "light"
     },
     "output_type": "display_data"
    }
   ],
   "source": [
    "from sklearn.metrics import confusion_matrix\n",
    "cm=confusion_matrix(y_test,rfc_pred)\n",
    "conf_matrix=pd.DataFrame(data=cm,columns=['Predicted:0','Predicted:1'],index=['Actual:0','Actual:1'])\n",
    "plt.figure(figsize = (8,5))\n",
    "sns.heatmap(conf_matrix, annot=True,fmt='d',cmap=\"YlGnBu\")"
   ]
  },
  {
   "cell_type": "code",
   "execution_count": 261,
   "metadata": {},
   "outputs": [
    {
     "name": "stdout",
     "output_type": "stream",
     "text": [
      "   recommendation_set_id      query_identifier  query_word_count  \\\n",
      "0                46914.0  Withheld for privacy              18.0   \n",
      "1                46961.0  Withheld for privacy               5.0   \n",
      "2                47012.0  Withheld for privacy               8.0   \n",
      "3                47181.0  Withheld for privacy               9.0   \n",
      "4                47240.0  Withheld for privacy              10.0   \n",
      "\n",
      "   query_char_count query_detected_language query_document_id  \\\n",
      "0             126.0                      en               NaN   \n",
      "1              60.0                      en               NaN   \n",
      "2              54.0                      en               NaN   \n",
      "3              59.0                      en          11559885   \n",
      "4              81.0                      en               NaN   \n",
      "\n",
      "  document_language_provided year_published  number_of_authors  \\\n",
      "0                        NaN            NaN                NaN   \n",
      "1                        NaN            NaN                NaN   \n",
      "2                        NaN            NaN                NaN   \n",
      "3                        NaN           2017                4.0   \n",
      "4                        NaN            NaN                NaN   \n",
      "\n",
      "  abstract_word_count  ... number_of_recs_in_set  \\\n",
      "0                 NaN  ...                    nA   \n",
      "1                 NaN  ...                    nA   \n",
      "2                 NaN  ...                    nA   \n",
      "3                 174  ...                    nA   \n",
      "4                 NaN  ...                    nA   \n",
      "\n",
      "  recommendation_algorithm_id_used          algorithm_class   cbf_parser  \\\n",
      "0                                1  content_based_filtering  standard_QP   \n",
      "1                                1  content_based_filtering  standard_QP   \n",
      "2                                2  content_based_filtering   edismax_QP   \n",
      "3                                1  content_based_filtering  standard_QP   \n",
      "4                                1  content_based_filtering  standard_QP   \n",
      "\n",
      "   search_title search_keywords search_abstract time_recs_recieved  \\\n",
      "0           yes              no              no                 nA   \n",
      "1           yes              no              no                 nA   \n",
      "2           yes             yes              no                 nA   \n",
      "3           yes              no              no                 nA   \n",
      "4           yes              no              no                 nA   \n",
      "\n",
      "   time_recs_displayed time_recs_viewed  \n",
      "0                   nA               nA  \n",
      "1                   nA               nA  \n",
      "2                   nA               nA  \n",
      "3                   nA               nA  \n",
      "4                   nA               nA  \n",
      "\n",
      "[5 rows x 41 columns]\n"
     ]
    }
   ],
   "source": [
    "test = pd.read_csv('tcdml1920-rec-click-pred--test.csv')\n",
    "test = test.iloc[:9145,:]\n",
    "\n",
    "cols_to_drop = ['user_id','session_id','clicks','ctr','set_clicked']\n",
    "test = test[test.columns.drop(cols_to_drop)]\n",
    "# print(test.head())\n",
    "test = test.replace('\\\\N',np.nan)\n",
    "# print(test.head())\n",
    "# all_columns = ['query_word_count','query_char_count',\n",
    "#                 'hour_request_received','num_pubs_by_first_author','number_of_authors'] # Creates list of all column headers\n",
    "# test[all_columns] = test[all_columns].astype('float64')\n",
    "\n",
    "all_columns = ['query_word_count','query_char_count',\n",
    "                'hour_request_received','num_pubs_by_first_author','number_of_authors','local_hour_of_request'] # Creates list of all column headers\n",
    "test[all_columns] = test[all_columns].astype('float64')\n",
    "\n",
    "test_df1 = test[test['organization_id']== 1]\n",
    "test_df2 = test[test['organization_id']== 4]\n",
    "test_df3 = test[test['organization_id']== 8]\n",
    "\n",
    "print(test_df1.head())\n"
   ]
  },
  {
   "cell_type": "code",
   "execution_count": 262,
   "metadata": {},
   "outputs": [
    {
     "data": {
      "text/plain": [
       "query_word_count           0\n",
       "query_char_count           0\n",
       "query_detected_language    0\n",
       "application_type           0\n",
       "item_type                  0\n",
       "hour_request_received      0\n",
       "app_version                0\n",
       "app_lang                   0\n",
       "country_by_ip              0\n",
       "algorithm_class            0\n",
       "cbf_parser                 0\n",
       "search_title               0\n",
       "search_keywords            0\n",
       "search_abstract            0\n",
       "local_hour_of_request      0\n",
       "dtype: int64"
      ]
     },
     "execution_count": 262,
     "metadata": {},
     "output_type": "execute_result"
    }
   ],
   "source": [
    "cols= ['query_word_count','query_char_count','query_detected_language','application_type','item_type','hour_request_received',\n",
    "      'app_version','app_lang','country_by_ip','algorithm_class','cbf_parser','search_title','search_keywords','search_abstract','local_hour_of_request']\n",
    "test_df1= test_df1[cols]\n",
    "cols = test_df1.columns\n",
    "test_df1[cols]=test_df1[cols].fillna(test_df1.mode().iloc[0])\n",
    "test_df1.isnull().sum()"
   ]
  },
  {
   "cell_type": "code",
   "execution_count": 263,
   "metadata": {},
   "outputs": [],
   "source": [
    "test_df1 = pd.get_dummies(data=test_df1, columns=['query_detected_language','application_type','item_type',\n",
    "                                       'app_version','app_lang','country_by_ip','algorithm_class','cbf_parser','search_title',\n",
    "                                       'search_keywords','search_abstract'])\n"
   ]
  },
  {
   "cell_type": "code",
   "execution_count": 264,
   "metadata": {},
   "outputs": [],
   "source": [
    "for column in list(x_train.columns.difference(test_df1.columns)):\n",
    "    test_df1[column]=0\n",
    "for column in list(test_df1.columns.difference(x_train.columns)):\n",
    "    x_train[column]=0\n",
    "\n",
    "test_df1= test_df1[x_train.columns]"
   ]
  },
  {
   "cell_type": "code",
   "execution_count": 267,
   "metadata": {},
   "outputs": [
    {
     "name": "stdout",
     "output_type": "stream",
     "text": [
      "0    5148\n",
      "1      28\n",
      "Name: set_clicked, dtype: int64\n"
     ]
    }
   ],
   "source": [
    "threshold = 0.5\n",
    "\n",
    "predicted_proba = rfc.predict_proba(test_df1)\n",
    "answer_pred = (predicted_proba [:,1] >= threshold).astype('int')\n",
    "# answer_pred = rfc.predict(test_df1)\n",
    "answer_pred = pd.DataFrame(answer_pred,\n",
    "            columns=['set_clicked'])\n",
    "print(answer_pred['set_clicked'].value_counts())"
   ]
  },
  {
   "cell_type": "code",
   "execution_count": 247,
   "metadata": {},
   "outputs": [
    {
     "name": "stdout",
     "output_type": "stream",
     "text": [
      "0    5136\n",
      "1      40\n",
      "Name: set_clicked, dtype: int64\n"
     ]
    }
   ],
   "source": [
    "dd = test[test['organization_id']== 1][['recommendation_set_id']].reset_index(drop=True)\n",
    "# print(dd)\n",
    "result1 = pd.concat([dd, answer_pred], axis=1)\n",
    "print(result1['set_clicked'].value_counts())"
   ]
  },
  {
   "cell_type": "code",
   "execution_count": 195,
   "metadata": {
    "scrolled": true
   },
   "outputs": [
    {
     "name": "stdout",
     "output_type": "stream",
     "text": [
      "recommendation_set_id                  0\n",
      "query_identifier                       3\n",
      "query_word_count                       3\n",
      "query_char_count                       3\n",
      "query_detected_language                3\n",
      "query_document_id                    199\n",
      "document_language_provided          8731\n",
      "year_published                      8731\n",
      "number_of_authors                   8731\n",
      "abstract_word_count                  231\n",
      "abstract_char_count                  231\n",
      "abstract_detected_language           231\n",
      "first_author_id                     8731\n",
      "num_pubs_by_first_author            8731\n",
      "organization_id                        0\n",
      "application_type                       0\n",
      "item_type                           1908\n",
      "request_received                       0\n",
      "hour_request_received                  0\n",
      "response_delivered                     0\n",
      "rec_processing_time                    0\n",
      "app_version                         8731\n",
      "app_lang                              26\n",
      "user_os                             8731\n",
      "user_os_version                     8731\n",
      "user_java_version                   8731\n",
      "user_timezone                       8731\n",
      "country_by_ip                         42\n",
      "timezone_by_ip                       603\n",
      "local_time_of_request                603\n",
      "local_hour_of_request                603\n",
      "number_of_recs_in_set                  0\n",
      "recommendation_algorithm_id_used       0\n",
      "algorithm_class                        0\n",
      "cbf_parser                          3342\n",
      "search_title                           0\n",
      "search_keywords                        0\n",
      "search_abstract                        0\n",
      "time_recs_recieved                   259\n",
      "time_recs_displayed                  261\n",
      "time_recs_viewed                       0\n",
      "clicks                                 0\n",
      "ctr                                    0\n",
      "set_clicked                            0\n",
      "dtype: int64\n"
     ]
    }
   ],
   "source": [
    "df = pd.read_csv('tcdml1920-rec-click-pred--training.csv')\n",
    "cols_to_drop = ['user_id','session_id']\n",
    "new_df = df[df.columns.drop(cols_to_drop)]\n",
    "# print(new_df.head())\n",
    "\n",
    "# new_df = new_df[(new_df['rec_processing_time']<38)]\n",
    "new_df = new_df.replace('\\\\N',np.nan)\n",
    "new_df = new_df[~new_df['time_recs_viewed'].isnull()]\n",
    "\n",
    "all_columns = ['query_word_count','query_char_count',\n",
    "                'hour_request_received','num_pubs_by_first_author','number_of_authors','local_hour_of_request'] # Creates list of all column headers\n",
    "new_df[all_columns] = new_df[all_columns].astype('float64')\n",
    "\n",
    "df2 = new_df[new_df['organization_id']== 4]\n",
    "\n",
    "# print(df2.describe())\n",
    "print(df2.isnull().sum())"
   ]
  },
  {
   "cell_type": "code",
   "execution_count": 196,
   "metadata": {},
   "outputs": [
    {
     "name": "stdout",
     "output_type": "stream",
     "text": [
      "query_word_count              3\n",
      "query_char_count              3\n",
      "query_detected_language       3\n",
      "application_type              0\n",
      "item_type                  1908\n",
      "hour_request_received         0\n",
      "app_lang                     26\n",
      "country_by_ip                42\n",
      "algorithm_class               0\n",
      "cbf_parser                 3342\n",
      "search_title                  0\n",
      "search_keywords               0\n",
      "search_abstract               0\n",
      "local_hour_of_request       603\n",
      "clicks                        0\n",
      "ctr                           0\n",
      "set_clicked                   0\n",
      "dtype: int64\n"
     ]
    }
   ],
   "source": [
    "cols= ['query_word_count','query_char_count','query_detected_language','application_type','item_type','hour_request_received','app_lang','country_by_ip','algorithm_class','cbf_parser','search_title','search_keywords','search_abstract','local_hour_of_request','clicks',\n",
    "      'ctr','set_clicked']\n",
    "df2= df2[cols]\n",
    "df2.head()\n",
    "print(df2.isnull().sum())"
   ]
  },
  {
   "cell_type": "code",
   "execution_count": 197,
   "metadata": {},
   "outputs": [
    {
     "name": "stdout",
     "output_type": "stream",
     "text": [
      "en    8705\n",
      "Name: app_lang, dtype: int64\n"
     ]
    }
   ],
   "source": [
    "from sklearn.model_selection import train_test_split\n",
    "x= df2.iloc[:,:-3]\n",
    "y = df2.iloc[:,-1]\n",
    "print(x['app_lang'].value_counts())\n",
    "\n",
    "# print(x.head())\n",
    "# print(y.head())\n",
    "\n",
    "x_train, x_test, y_train, y_test = train_test_split(x, y, test_size=0.2, random_state=101, stratify =y)"
   ]
  },
  {
   "cell_type": "code",
   "execution_count": 198,
   "metadata": {},
   "outputs": [
    {
     "data": {
      "text/plain": [
       "query_word_count           0\n",
       "query_char_count           0\n",
       "query_detected_language    0\n",
       "application_type           0\n",
       "item_type                  0\n",
       "hour_request_received      0\n",
       "app_lang                   0\n",
       "country_by_ip              0\n",
       "algorithm_class            0\n",
       "cbf_parser                 0\n",
       "search_title               0\n",
       "search_keywords            0\n",
       "search_abstract            0\n",
       "local_hour_of_request      0\n",
       "dtype: int64"
      ]
     },
     "execution_count": 198,
     "metadata": {},
     "output_type": "execute_result"
    }
   ],
   "source": [
    "cols = x_train.columns\n",
    "x_train[cols]=x_train[cols].fillna(x_train.mode().iloc[0])\n",
    "x_train.isnull().sum()"
   ]
  },
  {
   "cell_type": "code",
   "execution_count": 199,
   "metadata": {},
   "outputs": [
    {
     "data": {
      "text/plain": [
       "query_word_count           0\n",
       "query_char_count           0\n",
       "query_detected_language    0\n",
       "application_type           0\n",
       "item_type                  0\n",
       "hour_request_received      0\n",
       "app_lang                   0\n",
       "country_by_ip              0\n",
       "algorithm_class            0\n",
       "cbf_parser                 0\n",
       "search_title               0\n",
       "search_keywords            0\n",
       "search_abstract            0\n",
       "local_hour_of_request      0\n",
       "dtype: int64"
      ]
     },
     "execution_count": 199,
     "metadata": {},
     "output_type": "execute_result"
    }
   ],
   "source": [
    "cols = x_test.columns\n",
    "x_test[cols]=x_test[cols].fillna(x_test.mode().iloc[0])\n",
    "x_test.isnull().sum()"
   ]
  },
  {
   "cell_type": "code",
   "execution_count": 200,
   "metadata": {},
   "outputs": [],
   "source": [
    "x_train = pd.get_dummies(data=x_train, columns=['query_detected_language','application_type','item_type'\n",
    "                                    ,'app_lang','country_by_ip','algorithm_class','cbf_parser','search_title',\n",
    "                                       'search_keywords','search_abstract'])\n",
    "x_test = pd.get_dummies(data=x_test, columns=['query_detected_language','application_type','item_type'\n",
    "                                      ,'app_lang','country_by_ip','algorithm_class','cbf_parser','search_title',\n",
    "                                       'search_keywords','search_abstract'])"
   ]
  },
  {
   "cell_type": "code",
   "execution_count": 205,
   "metadata": {},
   "outputs": [
    {
     "name": "stdout",
     "output_type": "stream",
     "text": [
      "______________________________________________\n"
     ]
    }
   ],
   "source": [
    "for column in list(x_train.columns.difference(x_test.columns)):\n",
    "    x_test[column]=0\n",
    "print(\"______________________________________________\")\n",
    "for column in list(x_test.columns.difference(x_train.columns)):\n",
    "    x_train[column]=0\n",
    "x_test= x_test[x_train.columns]"
   ]
  },
  {
   "cell_type": "code",
   "execution_count": 206,
   "metadata": {},
   "outputs": [
    {
     "name": "stdout",
     "output_type": "stream",
     "text": [
      "0.936462507155123\n",
      "0.03478260869565218\n",
      "0.019230769230769232\n",
      "0.18181818181818182\n"
     ]
    }
   ],
   "source": [
    "from sklearn.ensemble import RandomForestClassifier\n",
    "\n",
    "# # train model\n",
    "rfc = RandomForestClassifier(n_estimators=100).fit(x_train, y_train)\n",
    "\n",
    "# predict on test set\n",
    "rfc_pred = rfc.predict(x_test)\n",
    "from sklearn.metrics import accuracy_score,f1_score,recall_score,precision_score\n",
    "print(accuracy_score(y_test, rfc_pred))\n",
    "\n",
    "print(f1_score(y_test, rfc_pred))\n",
    "\n",
    "print(recall_score(y_test, rfc_pred))\n",
    "\n",
    "print(precision_score(y_test, rfc_pred))"
   ]
  },
  {
   "cell_type": "code",
   "execution_count": 43,
   "metadata": {},
   "outputs": [
    {
     "name": "stdout",
     "output_type": "stream",
     "text": [
      "\n",
      "******** For i = 0.05 ******\n",
      "Our testing accuracy is 0.6611333714939897\n",
      "[[1112  531]\n",
      " [  61   43]]\n",
      "\n",
      "******** For i = 0.1 ******\n",
      "Our testing accuracy is 0.8025186033199772\n",
      "[[1373  270]\n",
      " [  75   29]]\n",
      "\n",
      "******** For i = 0.15 ******\n",
      "Our testing accuracy is 0.859187178019462\n",
      "[[1482  161]\n",
      " [  85   19]]\n",
      "\n",
      "******** For i = 0.2 ******\n",
      "Our testing accuracy is 0.8923869490555237\n",
      "[[1546   97]\n",
      " [  91   13]]\n",
      "\n",
      "******** For i = 0.25 ******\n",
      "Our testing accuracy is 0.9101316542644533\n",
      "[[1581   62]\n",
      " [  95    9]]\n",
      "\n",
      "******** For i = 0.3 ******\n",
      "Our testing accuracy is 0.9215798511734402\n",
      "[[1604   39]\n",
      " [  98    6]]\n",
      "\n",
      "******** For i = 0.35 ******\n",
      "Our testing accuracy is 0.9250143102461362\n",
      "[[1611   32]\n",
      " [  99    5]]\n",
      "\n",
      "******** For i = 0.4 ******\n",
      "Our testing accuracy is 0.9284487693188322\n",
      "[[1620   23]\n",
      " [ 102    2]]\n",
      "\n",
      "******** For i = 0.45 ******\n",
      "Our testing accuracy is 0.933028048082427\n",
      "[[1629   14]\n",
      " [ 103    1]]\n",
      "\n",
      "******** For i = 0.5 ******\n",
      "Our testing accuracy is 0.936462507155123\n",
      "[[1635    8]\n",
      " [ 103    1]]\n",
      "\n",
      "******** For i = 0.55 ******\n",
      "Our testing accuracy is 0.9376073268460218\n",
      "[[1638    5]\n",
      " [ 104    0]]\n",
      "\n",
      "******** For i = 0.6 ******\n",
      "Our testing accuracy is 0.9381797366914711\n",
      "[[1639    4]\n",
      " [ 104    0]]\n",
      "\n",
      "******** For i = 0.65 ******\n",
      "Our testing accuracy is 0.9381797366914711\n",
      "[[1639    4]\n",
      " [ 104    0]]\n",
      "\n",
      "******** For i = 0.7 ******\n",
      "Our testing accuracy is 0.9393245563823698\n",
      "[[1641    2]\n",
      " [ 104    0]]\n",
      "\n",
      "******** For i = 0.75 ******\n",
      "Our testing accuracy is 0.9398969662278192\n",
      "[[1642    1]\n",
      " [ 104    0]]\n",
      "\n",
      "******** For i = 0.8 ******\n",
      "Our testing accuracy is 0.9398969662278192\n",
      "[[1642    1]\n",
      " [ 104    0]]\n",
      "\n",
      "******** For i = 0.85 ******\n",
      "Our testing accuracy is 0.9404693760732684\n",
      "[[1643    0]\n",
      " [ 104    0]]\n",
      "\n",
      "******** For i = 0.9 ******\n",
      "Our testing accuracy is 0.9404693760732684\n",
      "[[1643    0]\n",
      " [ 104    0]]\n",
      "\n",
      "******** For i = 0.95 ******\n",
      "Our testing accuracy is 0.9404693760732684\n",
      "[[1643    0]\n",
      " [ 104    0]]\n",
      "\n",
      "******** For i = 0.99 ******\n",
      "Our testing accuracy is 0.9404693760732684\n",
      "[[1643    0]\n",
      " [ 104    0]]\n"
     ]
    }
   ],
   "source": [
    "pred_proba_df = pd.DataFrame(rfc.predict_proba(x_test))\n",
    "threshold_list = [0.05,0.1,0.15,0.2,0.25,0.3,0.35,0.4,0.45,0.5,0.55,0.6,0.65,.7,.75,.8,.85,.9,.95,.99]\n",
    "for i in threshold_list:\n",
    "    print ('\\n******** For i = {} ******'.format(i))\n",
    "    Y_test_pred = pred_proba_df.applymap(lambda x: 1 if x>i else 0)\n",
    "    test_accuracy = accuracy_score(y_test.as_matrix().reshape(y_test.as_matrix().size,1),\n",
    "                                           Y_test_pred.iloc[:,1].as_matrix().reshape(Y_test_pred.iloc[:,1].as_matrix().size,1))\n",
    "    print('Our testing accuracy is {}'.format(test_accuracy))\n",
    "\n",
    "    print(confusion_matrix(y_test.as_matrix().reshape(y_test.as_matrix().size,1),\n",
    "                           Y_test_pred.iloc[:,1].as_matrix().reshape(Y_test_pred.iloc[:,1].as_matrix().size,1)))"
   ]
  },
  {
   "cell_type": "code",
   "execution_count": 187,
   "metadata": {},
   "outputs": [
    {
     "ename": "ValueError",
     "evalue": "Found input variables with inconsistent numbers of samples: [1747, 54001]",
     "output_type": "error",
     "traceback": [
      "\u001b[1;31m---------------------------------------------------------------------------\u001b[0m",
      "\u001b[1;31mValueError\u001b[0m                                Traceback (most recent call last)",
      "\u001b[1;32m<ipython-input-187-76b533daad61>\u001b[0m in \u001b[0;36m<module>\u001b[1;34m\u001b[0m\n\u001b[0;32m      1\u001b[0m \u001b[1;32mfrom\u001b[0m \u001b[0msklearn\u001b[0m\u001b[1;33m.\u001b[0m\u001b[0mmetrics\u001b[0m \u001b[1;32mimport\u001b[0m \u001b[0mconfusion_matrix\u001b[0m\u001b[1;33m\u001b[0m\u001b[1;33m\u001b[0m\u001b[0m\n\u001b[1;32m----> 2\u001b[1;33m \u001b[0mcm\u001b[0m\u001b[1;33m=\u001b[0m\u001b[0mconfusion_matrix\u001b[0m\u001b[1;33m(\u001b[0m\u001b[0my_test\u001b[0m\u001b[1;33m,\u001b[0m\u001b[0mrfc_pred\u001b[0m\u001b[1;33m)\u001b[0m\u001b[1;33m\u001b[0m\u001b[1;33m\u001b[0m\u001b[0m\n\u001b[0m\u001b[0;32m      3\u001b[0m \u001b[0mconf_matrix\u001b[0m\u001b[1;33m=\u001b[0m\u001b[0mpd\u001b[0m\u001b[1;33m.\u001b[0m\u001b[0mDataFrame\u001b[0m\u001b[1;33m(\u001b[0m\u001b[0mdata\u001b[0m\u001b[1;33m=\u001b[0m\u001b[0mcm\u001b[0m\u001b[1;33m,\u001b[0m\u001b[0mcolumns\u001b[0m\u001b[1;33m=\u001b[0m\u001b[1;33m[\u001b[0m\u001b[1;34m'Predicted:0'\u001b[0m\u001b[1;33m,\u001b[0m\u001b[1;34m'Predicted:1'\u001b[0m\u001b[1;33m]\u001b[0m\u001b[1;33m,\u001b[0m\u001b[0mindex\u001b[0m\u001b[1;33m=\u001b[0m\u001b[1;33m[\u001b[0m\u001b[1;34m'Actual:0'\u001b[0m\u001b[1;33m,\u001b[0m\u001b[1;34m'Actual:1'\u001b[0m\u001b[1;33m]\u001b[0m\u001b[1;33m)\u001b[0m\u001b[1;33m\u001b[0m\u001b[1;33m\u001b[0m\u001b[0m\n\u001b[0;32m      4\u001b[0m \u001b[0mplt\u001b[0m\u001b[1;33m.\u001b[0m\u001b[0mfigure\u001b[0m\u001b[1;33m(\u001b[0m\u001b[0mfigsize\u001b[0m \u001b[1;33m=\u001b[0m \u001b[1;33m(\u001b[0m\u001b[1;36m8\u001b[0m\u001b[1;33m,\u001b[0m\u001b[1;36m5\u001b[0m\u001b[1;33m)\u001b[0m\u001b[1;33m)\u001b[0m\u001b[1;33m\u001b[0m\u001b[1;33m\u001b[0m\u001b[0m\n\u001b[0;32m      5\u001b[0m \u001b[0msns\u001b[0m\u001b[1;33m.\u001b[0m\u001b[0mheatmap\u001b[0m\u001b[1;33m(\u001b[0m\u001b[0mconf_matrix\u001b[0m\u001b[1;33m,\u001b[0m \u001b[0mannot\u001b[0m\u001b[1;33m=\u001b[0m\u001b[1;32mTrue\u001b[0m\u001b[1;33m,\u001b[0m\u001b[0mfmt\u001b[0m\u001b[1;33m=\u001b[0m\u001b[1;34m'd'\u001b[0m\u001b[1;33m,\u001b[0m\u001b[0mcmap\u001b[0m\u001b[1;33m=\u001b[0m\u001b[1;34m\"YlGnBu\"\u001b[0m\u001b[1;33m)\u001b[0m\u001b[1;33m\u001b[0m\u001b[1;33m\u001b[0m\u001b[0m\n",
      "\u001b[1;32m~\\Anaconda3\\lib\\site-packages\\sklearn\\metrics\\classification.py\u001b[0m in \u001b[0;36mconfusion_matrix\u001b[1;34m(y_true, y_pred, labels, sample_weight)\u001b[0m\n\u001b[0;32m    251\u001b[0m \u001b[1;33m\u001b[0m\u001b[0m\n\u001b[0;32m    252\u001b[0m     \"\"\"\n\u001b[1;32m--> 253\u001b[1;33m     \u001b[0my_type\u001b[0m\u001b[1;33m,\u001b[0m \u001b[0my_true\u001b[0m\u001b[1;33m,\u001b[0m \u001b[0my_pred\u001b[0m \u001b[1;33m=\u001b[0m \u001b[0m_check_targets\u001b[0m\u001b[1;33m(\u001b[0m\u001b[0my_true\u001b[0m\u001b[1;33m,\u001b[0m \u001b[0my_pred\u001b[0m\u001b[1;33m)\u001b[0m\u001b[1;33m\u001b[0m\u001b[1;33m\u001b[0m\u001b[0m\n\u001b[0m\u001b[0;32m    254\u001b[0m     \u001b[1;32mif\u001b[0m \u001b[0my_type\u001b[0m \u001b[1;32mnot\u001b[0m \u001b[1;32min\u001b[0m \u001b[1;33m(\u001b[0m\u001b[1;34m\"binary\"\u001b[0m\u001b[1;33m,\u001b[0m \u001b[1;34m\"multiclass\"\u001b[0m\u001b[1;33m)\u001b[0m\u001b[1;33m:\u001b[0m\u001b[1;33m\u001b[0m\u001b[1;33m\u001b[0m\u001b[0m\n\u001b[0;32m    255\u001b[0m         \u001b[1;32mraise\u001b[0m \u001b[0mValueError\u001b[0m\u001b[1;33m(\u001b[0m\u001b[1;34m\"%s is not supported\"\u001b[0m \u001b[1;33m%\u001b[0m \u001b[0my_type\u001b[0m\u001b[1;33m)\u001b[0m\u001b[1;33m\u001b[0m\u001b[1;33m\u001b[0m\u001b[0m\n",
      "\u001b[1;32m~\\Anaconda3\\lib\\site-packages\\sklearn\\metrics\\classification.py\u001b[0m in \u001b[0;36m_check_targets\u001b[1;34m(y_true, y_pred)\u001b[0m\n\u001b[0;32m     69\u001b[0m     \u001b[0my_pred\u001b[0m \u001b[1;33m:\u001b[0m \u001b[0marray\u001b[0m \u001b[1;32mor\u001b[0m \u001b[0mindicator\u001b[0m \u001b[0mmatrix\u001b[0m\u001b[1;33m\u001b[0m\u001b[1;33m\u001b[0m\u001b[0m\n\u001b[0;32m     70\u001b[0m     \"\"\"\n\u001b[1;32m---> 71\u001b[1;33m     \u001b[0mcheck_consistent_length\u001b[0m\u001b[1;33m(\u001b[0m\u001b[0my_true\u001b[0m\u001b[1;33m,\u001b[0m \u001b[0my_pred\u001b[0m\u001b[1;33m)\u001b[0m\u001b[1;33m\u001b[0m\u001b[1;33m\u001b[0m\u001b[0m\n\u001b[0m\u001b[0;32m     72\u001b[0m     \u001b[0mtype_true\u001b[0m \u001b[1;33m=\u001b[0m \u001b[0mtype_of_target\u001b[0m\u001b[1;33m(\u001b[0m\u001b[0my_true\u001b[0m\u001b[1;33m)\u001b[0m\u001b[1;33m\u001b[0m\u001b[1;33m\u001b[0m\u001b[0m\n\u001b[0;32m     73\u001b[0m     \u001b[0mtype_pred\u001b[0m \u001b[1;33m=\u001b[0m \u001b[0mtype_of_target\u001b[0m\u001b[1;33m(\u001b[0m\u001b[0my_pred\u001b[0m\u001b[1;33m)\u001b[0m\u001b[1;33m\u001b[0m\u001b[1;33m\u001b[0m\u001b[0m\n",
      "\u001b[1;32m~\\Anaconda3\\lib\\site-packages\\sklearn\\utils\\validation.py\u001b[0m in \u001b[0;36mcheck_consistent_length\u001b[1;34m(*arrays)\u001b[0m\n\u001b[0;32m    203\u001b[0m     \u001b[1;32mif\u001b[0m \u001b[0mlen\u001b[0m\u001b[1;33m(\u001b[0m\u001b[0muniques\u001b[0m\u001b[1;33m)\u001b[0m \u001b[1;33m>\u001b[0m \u001b[1;36m1\u001b[0m\u001b[1;33m:\u001b[0m\u001b[1;33m\u001b[0m\u001b[1;33m\u001b[0m\u001b[0m\n\u001b[0;32m    204\u001b[0m         raise ValueError(\"Found input variables with inconsistent numbers of\"\n\u001b[1;32m--> 205\u001b[1;33m                          \" samples: %r\" % [int(l) for l in lengths])\n\u001b[0m\u001b[0;32m    206\u001b[0m \u001b[1;33m\u001b[0m\u001b[0m\n\u001b[0;32m    207\u001b[0m \u001b[1;33m\u001b[0m\u001b[0m\n",
      "\u001b[1;31mValueError\u001b[0m: Found input variables with inconsistent numbers of samples: [1747, 54001]"
     ]
    }
   ],
   "source": [
    "from sklearn.metrics import confusion_matrix\n",
    "cm=confusion_matrix(y_test,rfc_pred)\n",
    "conf_matrix=pd.DataFrame(data=cm,columns=['Predicted:0','Predicted:1'],index=['Actual:0','Actual:1'])\n",
    "plt.figure(figsize = (8,5))\n",
    "sns.heatmap(conf_matrix, annot=True,fmt='d',cmap=\"YlGnBu\")"
   ]
  },
  {
   "cell_type": "code",
   "execution_count": 83,
   "metadata": {},
   "outputs": [
    {
     "data": {
      "text/plain": [
       "Index(['recommendation_set_id', 'query_identifier', 'query_word_count',\n",
       "       'query_char_count', 'query_detected_language', 'query_document_id',\n",
       "       'document_language_provided', 'year_published', 'number_of_authors',\n",
       "       'abstract_word_count', 'abstract_char_count',\n",
       "       'abstract_detected_language', 'first_author_id',\n",
       "       'num_pubs_by_first_author', 'organization_id', 'application_type',\n",
       "       'item_type', 'request_received', 'hour_request_received',\n",
       "       'response_delivered', 'rec_processing_time', 'app_version', 'app_lang',\n",
       "       'user_os', 'user_os_version', 'user_java_version', 'user_timezone',\n",
       "       'country_by_ip', 'timezone_by_ip', 'local_time_of_request',\n",
       "       'local_hour_of_request', 'number_of_recs_in_set',\n",
       "       'recommendation_algorithm_id_used', 'algorithm_class', 'cbf_parser',\n",
       "       'search_title', 'search_keywords', 'search_abstract',\n",
       "       'time_recs_recieved', 'time_recs_displayed', 'time_recs_viewed'],\n",
       "      dtype='object')"
      ]
     },
     "execution_count": 83,
     "metadata": {},
     "output_type": "execute_result"
    }
   ],
   "source": [
    "test_df2.columns"
   ]
  },
  {
   "cell_type": "code",
   "execution_count": 202,
   "metadata": {},
   "outputs": [
    {
     "data": {
      "text/plain": [
       "query_word_count           0\n",
       "query_char_count           0\n",
       "query_detected_language    0\n",
       "application_type           0\n",
       "item_type                  0\n",
       "hour_request_received      0\n",
       "app_lang                   0\n",
       "country_by_ip              0\n",
       "algorithm_class            0\n",
       "cbf_parser                 0\n",
       "search_title               0\n",
       "search_keywords            0\n",
       "search_abstract            0\n",
       "local_hour_of_request      0\n",
       "dtype: int64"
      ]
     },
     "execution_count": 202,
     "metadata": {},
     "output_type": "execute_result"
    }
   ],
   "source": [
    "cols= ['query_word_count','query_char_count','query_detected_language','application_type','item_type','hour_request_received',\n",
    "      'app_lang','country_by_ip','algorithm_class','cbf_parser','search_title','search_keywords','search_abstract','local_hour_of_request']\n",
    "test_df2 = test_df2[cols]\n",
    "cols = test_df2.columns\n",
    "test_df2[cols]=test_df2[cols].fillna(test_df2.mode().iloc[0])\n",
    "test_df2.isnull().sum()"
   ]
  },
  {
   "cell_type": "code",
   "execution_count": 203,
   "metadata": {},
   "outputs": [],
   "source": [
    "test_df2 = pd.get_dummies(data=test_df2, columns=['query_detected_language','application_type','item_type',\n",
    "                                       'app_lang','country_by_ip','algorithm_class','cbf_parser','search_title',\n",
    "                                       'search_keywords','search_abstract'])\n"
   ]
  },
  {
   "cell_type": "code",
   "execution_count": 204,
   "metadata": {},
   "outputs": [],
   "source": [
    "for column in list(x_train.columns.difference(test_df2.columns)):\n",
    "    test_df2[column]=0\n",
    "for column in list(test_df2.columns.difference(x_train.columns)):\n",
    "    x_train[column]=0\n",
    "\n",
    "test_df2= test_df2[x_train.columns]"
   ]
  },
  {
   "cell_type": "code",
   "execution_count": 207,
   "metadata": {},
   "outputs": [
    {
     "name": "stdout",
     "output_type": "stream",
     "text": [
      "0    3013\n",
      "1      16\n",
      "Name: set_clicked, dtype: int64\n"
     ]
    }
   ],
   "source": [
    "threshold = 0.5\n",
    "\n",
    "predicted_proba = rfc.predict_proba(test_df2)\n",
    "answer_pred2 = (predicted_proba [:,1] >= threshold).astype('int')\n",
    "# answer_pred = rfc.predict(test_df1)\n",
    "answer_pred2 = pd.DataFrame(answer_pred2,\n",
    "            columns=['set_clicked'])\n",
    "print(answer_pred2['set_clicked'].value_counts())"
   ]
  },
  {
   "cell_type": "code",
   "execution_count": 208,
   "metadata": {},
   "outputs": [
    {
     "name": "stdout",
     "output_type": "stream",
     "text": [
      "0    3013\n",
      "1      16\n",
      "Name: set_clicked, dtype: int64\n"
     ]
    }
   ],
   "source": [
    "dd = test[test['organization_id']== 4][['recommendation_set_id']].reset_index(drop=True)\n",
    "# print(dd)\n",
    "result2 = pd.concat([dd, answer_pred2], axis=1)\n",
    "print(result2['set_clicked'].value_counts())"
   ]
  },
  {
   "cell_type": "code",
   "execution_count": 209,
   "metadata": {},
   "outputs": [
    {
     "name": "stdout",
     "output_type": "stream",
     "text": [
      "recommendation_set_id                  0\n",
      "query_identifier                       3\n",
      "query_word_count                       3\n",
      "query_char_count                       3\n",
      "query_detected_language                3\n",
      "query_document_id                     45\n",
      "document_language_provided          4344\n",
      "year_published                      4344\n",
      "number_of_authors                   4344\n",
      "abstract_word_count                  121\n",
      "abstract_char_count                  121\n",
      "abstract_detected_language           121\n",
      "first_author_id                     4344\n",
      "num_pubs_by_first_author            4344\n",
      "organization_id                        0\n",
      "application_type                       0\n",
      "item_type                             45\n",
      "request_received                       0\n",
      "hour_request_received                  0\n",
      "response_delivered                     0\n",
      "rec_processing_time                    0\n",
      "app_version                         4344\n",
      "app_lang                            4344\n",
      "user_os                             4344\n",
      "user_os_version                     4344\n",
      "user_java_version                   4344\n",
      "user_timezone                       4344\n",
      "country_by_ip                         53\n",
      "timezone_by_ip                       229\n",
      "local_time_of_request                229\n",
      "local_hour_of_request                229\n",
      "number_of_recs_in_set                  0\n",
      "recommendation_algorithm_id_used       0\n",
      "algorithm_class                        0\n",
      "cbf_parser                          1346\n",
      "search_title                           0\n",
      "search_keywords                        0\n",
      "search_abstract                        0\n",
      "time_recs_recieved                    27\n",
      "time_recs_displayed                   27\n",
      "time_recs_viewed                       0\n",
      "clicks                                 0\n",
      "ctr                                    0\n",
      "set_clicked                            0\n",
      "dtype: int64\n"
     ]
    }
   ],
   "source": [
    "df3 = new_df[new_df['organization_id']== 8]\n",
    "# print(df1.describe())\n",
    "print(df3.isnull().sum())"
   ]
  },
  {
   "cell_type": "code",
   "execution_count": 210,
   "metadata": {},
   "outputs": [
    {
     "name": "stdout",
     "output_type": "stream",
     "text": [
      "recommendation_set_id                  0\n",
      "query_identifier                       3\n",
      "query_word_count                       3\n",
      "query_char_count                       3\n",
      "query_detected_language                3\n",
      "query_document_id                     45\n",
      "document_language_provided          4344\n",
      "year_published                      4344\n",
      "number_of_authors                   4344\n",
      "abstract_word_count                  121\n",
      "abstract_char_count                  121\n",
      "abstract_detected_language           121\n",
      "first_author_id                     4344\n",
      "num_pubs_by_first_author            4344\n",
      "organization_id                        0\n",
      "application_type                       0\n",
      "item_type                             45\n",
      "request_received                       0\n",
      "hour_request_received                  0\n",
      "response_delivered                     0\n",
      "rec_processing_time                    0\n",
      "app_version                         4344\n",
      "app_lang                            4344\n",
      "user_os                             4344\n",
      "user_os_version                     4344\n",
      "user_java_version                   4344\n",
      "user_timezone                       4344\n",
      "country_by_ip                         53\n",
      "timezone_by_ip                       229\n",
      "local_time_of_request                229\n",
      "local_hour_of_request                229\n",
      "number_of_recs_in_set                  0\n",
      "recommendation_algorithm_id_used       0\n",
      "algorithm_class                        0\n",
      "cbf_parser                          1346\n",
      "search_title                           0\n",
      "search_keywords                        0\n",
      "search_abstract                        0\n",
      "time_recs_recieved                    27\n",
      "time_recs_displayed                   27\n",
      "time_recs_viewed                       0\n",
      "clicks                                 0\n",
      "ctr                                    0\n",
      "set_clicked                            0\n",
      "dtype: int64\n"
     ]
    }
   ],
   "source": [
    "df = pd.read_csv('tcdml1920-rec-click-pred--training.csv')\n",
    "cols_to_drop = ['user_id','session_id']\n",
    "new_df = df[df.columns.drop(cols_to_drop)]\n",
    "# print(new_df.head())\n",
    "\n",
    "# new_df = new_df[(new_df['rec_processing_time']<38)]\n",
    "new_df = new_df.replace('\\\\N',np.nan)\n",
    "new_df = new_df[~new_df['time_recs_viewed'].isnull()]\n",
    "\n",
    "all_columns = ['query_word_count','query_char_count',\n",
    "                'hour_request_received','num_pubs_by_first_author','number_of_authors','local_hour_of_request'] # Creates list of all column headers\n",
    "new_df[all_columns] = new_df[all_columns].astype('float64')\n",
    "\n",
    "df3 = new_df[new_df['organization_id']== 8]\n",
    "\n",
    "# print(df2.describe())\n",
    "print(df3.isnull().sum())"
   ]
  },
  {
   "cell_type": "code",
   "execution_count": 212,
   "metadata": {},
   "outputs": [
    {
     "name": "stdout",
     "output_type": "stream",
     "text": [
      "query_word_count              3\n",
      "query_char_count              3\n",
      "query_detected_language       3\n",
      "application_type              0\n",
      "item_type                    45\n",
      "hour_request_received         0\n",
      "country_by_ip                53\n",
      "algorithm_class               0\n",
      "cbf_parser                 1346\n",
      "search_title                  0\n",
      "search_keywords               0\n",
      "search_abstract               0\n",
      "local_hour_of_request       229\n",
      "clicks                        0\n",
      "ctr                           0\n",
      "set_clicked                   0\n",
      "dtype: int64\n"
     ]
    }
   ],
   "source": [
    "cols= ['query_word_count','query_char_count','query_detected_language','application_type','item_type','hour_request_received','country_by_ip','algorithm_class','cbf_parser','search_title','search_keywords','search_abstract','local_hour_of_request','clicks',\n",
    "      'ctr','set_clicked']\n",
    "df3= df3[cols]\n",
    "df3.head()\n",
    "print(df3.isnull().sum())"
   ]
  },
  {
   "cell_type": "code",
   "execution_count": 213,
   "metadata": {},
   "outputs": [],
   "source": [
    "from sklearn.model_selection import train_test_split\n",
    "x= df3.iloc[:,:-3]\n",
    "y = df3.iloc[:,-1]\n",
    "\n",
    "# print(x.head())\n",
    "# print(y.head())\n",
    "\n",
    "x_train, x_test, y_train, y_test = train_test_split(x, y, test_size=0.2, random_state=101, stratify =y)"
   ]
  },
  {
   "cell_type": "code",
   "execution_count": 214,
   "metadata": {},
   "outputs": [
    {
     "data": {
      "text/plain": [
       "query_word_count           0\n",
       "query_char_count           0\n",
       "query_detected_language    0\n",
       "application_type           0\n",
       "item_type                  0\n",
       "hour_request_received      0\n",
       "country_by_ip              0\n",
       "algorithm_class            0\n",
       "cbf_parser                 0\n",
       "search_title               0\n",
       "search_keywords            0\n",
       "search_abstract            0\n",
       "local_hour_of_request      0\n",
       "dtype: int64"
      ]
     },
     "execution_count": 214,
     "metadata": {},
     "output_type": "execute_result"
    }
   ],
   "source": [
    "cols = x_train.columns\n",
    "x_train[cols]=x_train[cols].fillna(x_train.mode().iloc[0])\n",
    "x_train.isnull().sum()\n",
    "\n",
    "cols = x_test.columns\n",
    "x_test[cols]=x_test[cols].fillna(x_test.mode().iloc[0])\n",
    "x_test.isnull().sum()"
   ]
  },
  {
   "cell_type": "code",
   "execution_count": 215,
   "metadata": {},
   "outputs": [],
   "source": [
    "x_train = pd.get_dummies(data=x_train, columns=['query_detected_language','application_type','item_type'\n",
    "                                   ,'country_by_ip','algorithm_class','cbf_parser','search_title',\n",
    "                                       'search_keywords','search_abstract'])\n",
    "x_test = pd.get_dummies(data=x_test, columns=['query_detected_language','application_type','item_type'\n",
    "                                      ,'country_by_ip','algorithm_class','cbf_parser','search_title',\n",
    "                                       'search_keywords','search_abstract'])"
   ]
  },
  {
   "cell_type": "code",
   "execution_count": 220,
   "metadata": {},
   "outputs": [
    {
     "name": "stdout",
     "output_type": "stream",
     "text": [
      "______________________________________________\n"
     ]
    }
   ],
   "source": [
    "for column in list(x_train.columns.difference(x_test.columns)):\n",
    "    x_test[column]=0\n",
    "print(\"______________________________________________\")\n",
    "for column in list(x_test.columns.difference(x_train.columns)):\n",
    "    x_train[column]=0\n",
    "x_test= x_test[x_train.columns]"
   ]
  },
  {
   "cell_type": "code",
   "execution_count": 221,
   "metadata": {},
   "outputs": [
    {
     "name": "stdout",
     "output_type": "stream",
     "text": [
      "0.9781357882623706\n",
      "0.0\n",
      "0.0\n",
      "0.0\n"
     ]
    }
   ],
   "source": [
    "from sklearn.ensemble import RandomForestClassifier\n",
    "\n",
    "# # train model\n",
    "rfc = RandomForestClassifier(n_estimators=100).fit(x_train, y_train)\n",
    "\n",
    "# predict on test set\n",
    "rfc_pred = rfc.predict(x_test)\n",
    "from sklearn.metrics import accuracy_score,f1_score,recall_score,precision_score\n",
    "print(accuracy_score(y_test, rfc_pred))\n",
    "\n",
    "print(f1_score(y_test, rfc_pred))\n",
    "\n",
    "print(recall_score(y_test, rfc_pred))\n",
    "\n",
    "print(precision_score(y_test, rfc_pred))"
   ]
  },
  {
   "cell_type": "code",
   "execution_count": 101,
   "metadata": {
    "scrolled": true
   },
   "outputs": [
    {
     "name": "stdout",
     "output_type": "stream",
     "text": [
      "\n",
      "******** For i = 0.05 ******\n",
      "Our testing accuracy is 0.8837744533947065\n",
      "[[764  87]\n",
      " [ 14   4]]\n",
      "\n",
      "******** For i = 0.1 ******\n",
      "Our testing accuracy is 0.9355581127733027\n",
      "[[810  41]\n",
      " [ 15   3]]\n",
      "\n",
      "******** For i = 0.15 ******\n",
      "Our testing accuracy is 0.9585730724971231\n",
      "[[830  21]\n",
      " [ 15   3]]\n",
      "\n",
      "******** For i = 0.2 ******\n",
      "Our testing accuracy is 0.9643268124280783\n",
      "[[836  15]\n",
      " [ 16   2]]\n",
      "\n",
      "******** For i = 0.25 ******\n",
      "Our testing accuracy is 0.9700805523590333\n",
      "[[841  10]\n",
      " [ 16   2]]\n",
      "\n",
      "******** For i = 0.3 ******\n",
      "Our testing accuracy is 0.9735327963176065\n",
      "[[845   6]\n",
      " [ 17   1]]\n",
      "\n",
      "******** For i = 0.35 ******\n",
      "Our testing accuracy is 0.9746835443037974\n",
      "[[847   4]\n",
      " [ 18   0]]\n",
      "\n",
      "******** For i = 0.4 ******\n",
      "Our testing accuracy is 0.9746835443037974\n",
      "[[847   4]\n",
      " [ 18   0]]\n",
      "\n",
      "******** For i = 0.45 ******\n",
      "Our testing accuracy is 0.9781357882623706\n",
      "[[850   1]\n",
      " [ 18   0]]\n",
      "\n",
      "******** For i = 0.5 ******\n",
      "Our testing accuracy is 0.9792865362485615\n",
      "[[851   0]\n",
      " [ 18   0]]\n",
      "\n",
      "******** For i = 0.55 ******\n",
      "Our testing accuracy is 0.9792865362485615\n",
      "[[851   0]\n",
      " [ 18   0]]\n",
      "\n",
      "******** For i = 0.6 ******\n",
      "Our testing accuracy is 0.9792865362485615\n",
      "[[851   0]\n",
      " [ 18   0]]\n",
      "\n",
      "******** For i = 0.65 ******\n",
      "Our testing accuracy is 0.9792865362485615\n",
      "[[851   0]\n",
      " [ 18   0]]\n",
      "\n",
      "******** For i = 0.7 ******\n",
      "Our testing accuracy is 0.9792865362485615\n",
      "[[851   0]\n",
      " [ 18   0]]\n",
      "\n",
      "******** For i = 0.75 ******\n",
      "Our testing accuracy is 0.9792865362485615\n",
      "[[851   0]\n",
      " [ 18   0]]\n",
      "\n",
      "******** For i = 0.8 ******\n",
      "Our testing accuracy is 0.9792865362485615\n",
      "[[851   0]\n",
      " [ 18   0]]\n",
      "\n",
      "******** For i = 0.85 ******\n",
      "Our testing accuracy is 0.9792865362485615\n",
      "[[851   0]\n",
      " [ 18   0]]\n",
      "\n",
      "******** For i = 0.9 ******\n",
      "Our testing accuracy is 0.9792865362485615\n",
      "[[851   0]\n",
      " [ 18   0]]\n",
      "\n",
      "******** For i = 0.95 ******\n",
      "Our testing accuracy is 0.9792865362485615\n",
      "[[851   0]\n",
      " [ 18   0]]\n",
      "\n",
      "******** For i = 0.99 ******\n",
      "Our testing accuracy is 0.9792865362485615\n",
      "[[851   0]\n",
      " [ 18   0]]\n"
     ]
    }
   ],
   "source": [
    "pred_proba_df = pd.DataFrame(rfc.predict_proba(x_test))\n",
    "threshold_list = [0.05,0.1,0.15,0.2,0.25,0.3,0.35,0.4,0.45,0.5,0.55,0.6,0.65,.7,.75,.8,.85,.9,.95,.99]\n",
    "for i in threshold_list:\n",
    "    print ('\\n******** For i = {} ******'.format(i))\n",
    "    Y_test_pred = pred_proba_df.applymap(lambda x: 1 if x>i else 0)\n",
    "    test_accuracy = accuracy_score(y_test.as_matrix().reshape(y_test.as_matrix().size,1),\n",
    "                                           Y_test_pred.iloc[:,1].as_matrix().reshape(Y_test_pred.iloc[:,1].as_matrix().size,1))\n",
    "    print('Our testing accuracy is {}'.format(test_accuracy))\n",
    "\n",
    "    print(confusion_matrix(y_test.as_matrix().reshape(y_test.as_matrix().size,1),\n",
    "                           Y_test_pred.iloc[:,1].as_matrix().reshape(Y_test_pred.iloc[:,1].as_matrix().size,1)))"
   ]
  },
  {
   "cell_type": "code",
   "execution_count": 217,
   "metadata": {},
   "outputs": [
    {
     "data": {
      "text/plain": [
       "query_word_count           0\n",
       "query_char_count           0\n",
       "query_detected_language    0\n",
       "application_type           0\n",
       "item_type                  0\n",
       "hour_request_received      0\n",
       "country_by_ip              0\n",
       "algorithm_class            0\n",
       "cbf_parser                 0\n",
       "search_title               0\n",
       "search_keywords            0\n",
       "search_abstract            0\n",
       "local_hour_of_request      0\n",
       "dtype: int64"
      ]
     },
     "execution_count": 217,
     "metadata": {},
     "output_type": "execute_result"
    }
   ],
   "source": [
    "cols= ['query_word_count','query_char_count','query_detected_language','application_type','item_type','hour_request_received'\n",
    "      ,'country_by_ip','algorithm_class','cbf_parser','search_title','search_keywords','search_abstract','local_hour_of_request']\n",
    "\n",
    "test_df3 = test_df3[cols]\n",
    "cols = test_df3.columns\n",
    "test_df3[cols]=test_df3[cols].fillna(test_df3.mode().iloc[0])\n",
    "test_df3.isnull().sum()"
   ]
  },
  {
   "cell_type": "code",
   "execution_count": 218,
   "metadata": {},
   "outputs": [],
   "source": [
    "test_df3 = pd.get_dummies(data=test_df3, columns=['query_detected_language','application_type','item_type',\n",
    "                                       'country_by_ip','algorithm_class','cbf_parser','search_title',\n",
    "                                       'search_keywords','search_abstract'])\n"
   ]
  },
  {
   "cell_type": "code",
   "execution_count": 219,
   "metadata": {},
   "outputs": [],
   "source": [
    "for column in list(x_train.columns.difference(test_df3.columns)):\n",
    "    test_df3[column]=0\n",
    "for column in list(test_df3.columns.difference(x_train.columns)):\n",
    "    x_train[column]=0\n",
    "\n",
    "test_df3= test_df3[x_train.columns]"
   ]
  },
  {
   "cell_type": "code",
   "execution_count": 222,
   "metadata": {},
   "outputs": [
    {
     "name": "stdout",
     "output_type": "stream",
     "text": [
      "0    938\n",
      "1      2\n",
      "Name: set_clicked, dtype: int64\n"
     ]
    }
   ],
   "source": [
    "threshold = 0.5\n",
    "\n",
    "predicted_proba = rfc.predict_proba(test_df3)\n",
    "answer_pred3 = (predicted_proba [:,1] >= threshold).astype('int')\n",
    "# answer_pred = rfc.predict(test_df1)\n",
    "answer_pred3 = pd.DataFrame(answer_pred3,\n",
    "            columns=['set_clicked'])\n",
    "print(answer_pred3['set_clicked'].value_counts())"
   ]
  },
  {
   "cell_type": "code",
   "execution_count": 223,
   "metadata": {},
   "outputs": [
    {
     "name": "stdout",
     "output_type": "stream",
     "text": [
      "0    938\n",
      "1      2\n",
      "Name: set_clicked, dtype: int64\n"
     ]
    }
   ],
   "source": [
    "dd = test[test['organization_id']== 8][['recommendation_set_id']].reset_index(drop=True)\n",
    "# print(dd)\n",
    "result3 = pd.concat([dd, answer_pred3], axis=1)\n",
    "print(result3['set_clicked'].value_counts())"
   ]
  },
  {
   "cell_type": "code",
   "execution_count": 248,
   "metadata": {},
   "outputs": [
    {
     "name": "stdout",
     "output_type": "stream",
     "text": [
      "recommendation_set_id    int32\n",
      "set_clicked              int32\n",
      "dtype: object\n"
     ]
    },
    {
     "data": {
      "text/plain": [
       "0    9087\n",
       "1      58\n",
       "Name: set_clicked, dtype: int64"
      ]
     },
     "execution_count": 248,
     "metadata": {},
     "output_type": "execute_result"
    }
   ],
   "source": [
    "f= pd.concat([result1,result2,result3])\n",
    "# print(f)\n",
    "\n",
    "f['recommendation_set_id'] = f['recommendation_set_id'].astype(int)\n",
    "print(f.dtypes)\n",
    "f.sort_values(\"recommendation_set_id\", inplace=True, ascending=False)\n",
    "f.head()\n",
    "f.to_csv('new_submission-org_id file3.csv', encoding='utf-8', index=False)\n",
    "f['set_clicked'].value_counts()"
   ]
  }
 ],
 "metadata": {
  "kernelspec": {
   "display_name": "Python 3",
   "language": "python",
   "name": "python3"
  },
  "language_info": {
   "codemirror_mode": {
    "name": "ipython",
    "version": 3
   },
   "file_extension": ".py",
   "mimetype": "text/x-python",
   "name": "python",
   "nbconvert_exporter": "python",
   "pygments_lexer": "ipython3",
   "version": "3.7.3"
  }
 },
 "nbformat": 4,
 "nbformat_minor": 2
}
